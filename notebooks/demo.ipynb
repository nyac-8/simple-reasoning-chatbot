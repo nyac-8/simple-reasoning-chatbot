{
 "cells": [
  {
   "cell_type": "markdown",
   "metadata": {},
   "source": [
    "# Simple Reasoning Chatbot Demo\n",
    "\n",
    "This notebook demonstrates the v1 reasoning chatbot that shows its thinking process before answering."
   ]
  },
  {
   "cell_type": "code",
   "execution_count": null,
   "metadata": {},
   "outputs": [],
   "source": [
    "# Setup and imports\n",
    "import sys\n",
    "import os\n",
    "from pathlib import Path\n",
    "import uuid\n",
    "from typing import List, Tuple\n",
    "from IPython.display import display, Markdown\n",
    "\n",
    "# Add parent directory to path\n",
    "notebook_dir = Path.cwd()\n",
    "parent_dir = notebook_dir.parent if notebook_dir.name == 'notebooks' else notebook_dir\n",
    "sys.path.insert(0, str(parent_dir))\n",
    "\n",
    "# Load environment variables\n",
    "from dotenv import load_dotenv\n",
    "load_dotenv()\n",
    "\n",
    "# Import modules\n",
    "from src.graph import create_graph\n",
    "from src.state import State\n",
    "from langchain_core.messages import HumanMessage, AIMessage"
   ]
  },
  {
   "cell_type": "code",
   "execution_count": null,
   "metadata": {},
   "outputs": [],
   "source": [
    "# Create the graph\n",
    "workflow = create_graph()"
   ]
  },
  {
   "cell_type": "code",
   "execution_count": null,
   "metadata": {},
   "outputs": [],
   "source": [
    "# Helper class for managing sessions\n",
    "class ReasoningChatbot:\n",
    "    def __init__(self):\n",
    "        self.workflow = create_graph()\n",
    "        self.session_id = str(uuid.uuid4())\n",
    "        self.history: List[Tuple[str, str]] = []\n",
    "        \n",
    "    def ask(self, question: str) -> str:\n",
    "        \"\"\"Ask a question and get a reasoned response\"\"\"\n",
    "        \n",
    "        # Create thread ID\n",
    "        thread_id = str(uuid.uuid4())\n",
    "        \n",
    "        # Initialize state\n",
    "        initial_state: State = {\n",
    "            \"session_id\": self.session_id,\n",
    "            \"thread_id\": thread_id,\n",
    "            \"messages\": [],\n",
    "            \"history\": self.history,\n",
    "            \"current_question\": question,\n",
    "            \"reasoning_steps\": [],\n",
    "            \"reasoning_count\": 0,\n",
    "            \"ready_to_answer\": False,\n",
    "            \"context\": {},\n",
    "            \"tools\": [],\n",
    "            \"final_answer\": None\n",
    "        }\n",
    "        \n",
    "        # Run the workflow with config\n",
    "        config = {\"configurable\": {\"thread_id\": thread_id}}\n",
    "        \n",
    "        display(Markdown(f\"## Question\\n{question}\"))\n",
    "        display(Markdown(\"---\"))\n",
    "        \n",
    "        # Run the workflow\n",
    "        final_state = self.workflow.invoke(initial_state, config)\n",
    "        \n",
    "        # Display reasoning steps (always at least 2)\n",
    "        if final_state.get(\"reasoning_steps\"):\n",
    "            display(Markdown(\"### Reasoning Process\"))\n",
    "            for i, step in enumerate(final_state[\"reasoning_steps\"], 1):\n",
    "                display(Markdown(f'<span style=\"color: #FFC107;\">**Step {i}:** {step.content}</span>'))\n",
    "        \n",
    "        # Get final answer\n",
    "        final_answer = final_state.get(\"final_answer\", \"No answer generated\")\n",
    "        \n",
    "        # Update history\n",
    "        self.history = final_state.get(\"history\", self.history)\n",
    "        \n",
    "        display(Markdown(\"---\"))\n",
    "        display(Markdown(\"### Final Answer\"))\n",
    "        display(Markdown(f'<span style=\"color: #4CAF50;\">{final_answer}</span>'))\n",
    "        \n",
    "        return final_answer\n",
    "    \n",
    "    def reset_session(self):\n",
    "        \"\"\"Start a new session\"\"\"\n",
    "        self.session_id = str(uuid.uuid4())\n",
    "        self.history = []\n",
    "        display(Markdown(\"**Session reset**\"))\n",
    "\n",
    "# Create chatbot instance\n",
    "chatbot = ReasoningChatbot()"
   ]
  },
  {
   "cell_type": "markdown",
   "metadata": {},
   "source": [
    "## Example 1: Simple Question"
   ]
  },
  {
   "cell_type": "code",
   "execution_count": null,
   "metadata": {},
   "outputs": [],
   "source": [
    "# Simple question - will show at least 2 reasoning steps\n",
    "answer = chatbot.ask(\"What is the capital of France?\")"
   ]
  },
  {
   "cell_type": "markdown",
   "metadata": {},
   "source": [
    "## Example 2: Complex Question"
   ]
  },
  {
   "cell_type": "code",
   "execution_count": null,
   "metadata": {},
   "outputs": [],
   "source": [
    "# Complex question - should trigger more reasoning steps\n",
    "answer = chatbot.ask(\"Explain how photosynthesis works and why it's important for life on Earth.\")"
   ]
  },
  {
   "cell_type": "markdown",
   "metadata": {},
   "source": [
    "## Example 3: Follow-up Question"
   ]
  },
  {
   "cell_type": "code",
   "execution_count": null,
   "metadata": {},
   "outputs": [],
   "source": [
    "# Follow-up that uses conversation history\n",
    "answer = chatbot.ask(\"What would happen if this process stopped working?\")"
   ]
  },
  {
   "cell_type": "markdown",
   "metadata": {},
   "source": [
    "## Example 4: Math Problem"
   ]
  },
  {
   "cell_type": "code",
   "execution_count": null,
   "metadata": {},
   "outputs": [],
   "source": [
    "# Math problem requiring step-by-step reasoning\n",
    "answer = chatbot.ask(\n",
    "    \"If a car travels 120 miles in 2 hours, then slows down to half its speed for the next 3 hours, \"\n",
    "    \"how far did it travel in total?\"\n",
    ")"
   ]
  },
  {
   "cell_type": "markdown",
   "metadata": {},
   "source": [
    "## Example 5: Probability Question\n",
    "\n",
    "### The Dice Game\n",
    "You play a game where you roll a fair six-sided die. You win the dollar amount shown on the die. However, after seeing your first roll, you have the option to reroll once. What is the maximum amount you should pay to play this game?\n",
    "\n",
    "**Answer**: $4.25. The optimal strategy is to reroll if you get 1, 2, or 3 (below the expected value of 3.5). Expected value: (1/6)(4+5+6) + (1/2)(3.5) = 4.25"
   ]
  },
  {
   "cell_type": "code",
   "execution_count": null,
   "metadata": {},
   "outputs": [],
   "source": [
    "# Probability/game theory question\n",
    "answer = chatbot.ask(\n",
    "    \"You play a game where you roll a fair six-sided die and win the dollar amount shown. \"\n",
    "    \"After seeing your first roll, you can choose to reroll once. \"\n",
    "    \"What is the maximum amount you should pay to play this game?\"\n",
    ")"
   ]
  },
  {
   "cell_type": "markdown",
   "metadata": {},
   "source": [
    "## Example 6: Reasoning About Code"
   ]
  },
  {
   "cell_type": "code",
   "execution_count": null,
   "metadata": {},
   "outputs": [],
   "source": [
    "# Code analysis question\n",
    "answer = chatbot.ask(\n",
    "    \"What's the time complexity of bubble sort and why is it generally not used in production systems?\"\n",
    ")"
   ]
  },
  {
   "cell_type": "markdown",
   "metadata": {},
   "source": [
    "## Reset Session\n",
    "Start a fresh conversation without history:"
   ]
  },
  {
   "cell_type": "code",
   "execution_count": null,
   "metadata": {},
   "outputs": [],
   "source": [
    "# Reset to start fresh\n",
    "chatbot.reset_session()"
   ]
  },
  {
   "cell_type": "markdown",
   "metadata": {},
   "source": [
    "## Example 7: New Session Question"
   ]
  },
  {
   "cell_type": "code",
   "execution_count": null,
   "metadata": {},
   "outputs": [],
   "source": [
    "# This won't have access to previous conversation history\n",
    "answer = chatbot.ask(\"What did we discuss earlier?\")"
   ]
  }
 ],
 "metadata": {
  "kernelspec": {
   "display_name": "Python 3 (ipykernel)",
   "language": "python",
   "name": "python3"
  },
  "language_info": {
   "codemirror_mode": {
    "name": "ipython",
    "version": 3
   },
   "file_extension": ".py",
   "mimetype": "text/x-python",
   "name": "python",
   "nbconvert_exporter": "python",
   "pygments_lexer": "ipython3",
   "version": "3.13.3"
  }
 },
 "nbformat": 4,
 "nbformat_minor": 4
}
